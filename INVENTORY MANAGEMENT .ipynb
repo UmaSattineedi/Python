{
 "cells": [
  {
   "cell_type": "code",
   "execution_count": 32,
   "id": "7f13aa60-2bab-469f-98e5-35ce0aa111b1",
   "metadata": {},
   "outputs": [],
   "source": [
    "fd=open('inventory.txt','w')\n",
    "fd.close()"
   ]
  },
  {
   "cell_type": "markdown",
   "id": "8139d248-17b5-4f65-8f58-3d6556ecefbf",
   "metadata": {},
   "source": [
    "product details\n",
    "1.product ID\n",
    "2.Nmae of product\n",
    "3.prize of product\n",
    "4.quntity"
   ]
  },
  {
   "cell_type": "code",
   "execution_count": 49,
   "id": "9993f243-852e-4e1b-b117-acb84fdb44db",
   "metadata": {},
   "outputs": [],
   "source": [
    "fd=open('inventory.txt','r')\n",
    "products=fd.read()\n",
    "fd.close()"
   ]
  },
  {
   "cell_type": "code",
   "execution_count": 51,
   "id": "260b546b-f606-41a4-93da-a4913d5d7aa3",
   "metadata": {},
   "outputs": [
    {
     "name": "stdout",
     "output_type": "stream",
     "text": [
      "1,candy,5,100\n",
      "2,cake,300,5\n",
      "3,5 star,5,100\n",
      "4,milky bar,5,100\n"
     ]
    }
   ],
   "source": [
    "print(products)"
   ]
  },
  {
   "cell_type": "code",
   "execution_count": 57,
   "id": "d68f3cac-416e-4c92-ae03-d894e10318f1",
   "metadata": {},
   "outputs": [
    {
     "data": {
      "text/plain": [
       "['1,candy,5,100', '2,cake,300,5', '3,5 star,5,100', '4,milky bar,5,100']"
      ]
     },
     "execution_count": 57,
     "metadata": {},
     "output_type": "execute_result"
    }
   ],
   "source": [
    "products.split('\\n')"
   ]
  },
  {
   "cell_type": "code",
   "execution_count": 7,
   "id": "eb132c71-0616-451a-9e83-1cc44eceb89a",
   "metadata": {},
   "outputs": [],
   "source": [
    "fd=open('inventory.txt','r')\n",
    "products=fd.read()\n",
    "fd.close()"
   ]
  },
  {
   "cell_type": "code",
   "execution_count": 9,
   "id": "4d97b79f-dd27-4d0e-b167-7543d5300041",
   "metadata": {},
   "outputs": [
    {
     "name": "stdout",
     "output_type": "stream",
     "text": [
      "1,candy,5,100\n",
      "2,cake,300,5\n",
      "3,5 star,5,100\n",
      "4,milky bar,5,100\n"
     ]
    }
   ],
   "source": [
    "print(products)"
   ]
  },
  {
   "cell_type": "code",
   "execution_count": 7,
   "id": "5f8a544b-f239-4189-8b67-9056fe8ce508",
   "metadata": {},
   "outputs": [
    {
     "name": "stdin",
     "output_type": "stream",
     "text": [
      "enter your name:  uma\n",
      "enter your mobile No:  5189765842\n",
      "enter your mail ID:  uma@gmail.com\n",
      "Enter product ID:  2\n",
      "Enter product quantity:  5\n"
     ]
    },
    {
     "name": "stdout",
     "output_type": "stream",
     "text": [
      "--------------------\n",
      "Name of product: cake\n",
      "Price          : 300\n",
      "Quantity       : 5\n",
      "--------------------\n",
      "Total bill: 1500\n",
      "--------------------\n",
      "--------------------\n",
      "inventory updated\n"
     ]
    }
   ],
   "source": [
    "import time\n",
    "#Reading an inventory\n",
    "\n",
    "fd=open('inventory.txt','r')\n",
    "products=fd.read().split('\\n')\n",
    "fd.close()\n",
    "\n",
    "#taking user input\n",
    "ui_name=input(\"enter your name: \")\n",
    "ui_phone=input(\"enter your mobile No: \")\n",
    "ui_mail=input(\"enter your mail ID: \")\n",
    "ui_prod_ID = input(\"Enter product ID: \")\n",
    "ui_prod_qn = input(\"Enter product quantity: \")\n",
    "\n",
    "updated_product_lst = []\n",
    "\n",
    "#going though each product detail\n",
    "# Iterate over the products to find the matching product\n",
    "for product in products:\n",
    "    \n",
    "    product_details = product.split(',')# Correctly split the individual product string\n",
    "\n",
    "    #checking if product exists or not\n",
    "    if product_details[0] == ui_prod_ID:# Check if the product ID matches the user input\n",
    "        if int(product_details[3])>=int(ui_prod_qn):\n",
    "            #checkig if we're having enough quantity\n",
    "            print('-' * 20)\n",
    "            print(\"Name of product:\", product_details[1])\n",
    "            print(\"Price          :\", product_details[2])\n",
    "            print(\"Quantity       :\", ui_prod_qn)\n",
    "            print('-' * 20)\n",
    "            print(\"Total bill:\", int(ui_prod_qn) * int(product_details[2]))\n",
    "            print('-' * 20)\n",
    "            #generating sales in sales.txt\n",
    "            fd=open(\"sales.txt\",'a')\n",
    "            sales_details=ui_name+\",\"+ui_phone+\",\"+ui_mail+\",\"+ui_prod_ID+\",\"+ui_prod_qn+\",\"+str(int(ui_prod_qn) * int(product_details[2]))+\",\"+time.ctime()+'\\n'          \n",
    "            fd.write(sales_details)\n",
    "            fd.close()\n",
    "        else:\n",
    "             #checkig if we're having enough quantity\n",
    "            print(\"sorry, we don't have enought quantity\")\n",
    "            print(\"we have only\",product_details[3],\"quantity\")\n",
    "            print(\"If you want to purchase?\")\n",
    "            ch=input(\"choose Y OR N :\")\n",
    "            if (ch==\"Y\" or ch=='y'):\n",
    "                #if you want to purchase remaining quantity\n",
    "                print('-' * 20)\n",
    "                print(\"Name of product:\", product_details[1])\n",
    "                print(\"Price          :\", product_details[2])\n",
    "                print(\"Quantity       :\", product_details[3])\n",
    "                print('-' * 20)\n",
    "                print(\"Total bill:\", int(product_details[3]) * int(product_details[2]))\n",
    "                print('-' * 20)\n",
    "            else:\n",
    "                print(\"Thanks\")\n",
    "            fd=open(\"sales.txt\",'a')\n",
    "            sales_details=ui_name+\",\"+ui_phone+\",\"+ui_mail+\",\"+ui_prod_ID+\",\"+product_details[3]+\",\"+str(int(product_details[3]) * int(product_details[2]))+\",\"+time.ctime()+'\\n'            \n",
    "            fd.write(sales_details)\n",
    "            fd.close()\n",
    "        \n",
    "        # Update the product quantity in the inventory\n",
    "        product_details[3] = '0'\n",
    "    \n",
    "    updated_product_lst.append(product_details)\n",
    "\n",
    "# Prepare the updated product list for writing back to the file\n",
    "lst = []\n",
    "for i in updated_product_lst:  # Changed from updated_product_list to updated_product_lst\n",
    "    prod = i[0] + \",\" + i[1] + \",\" + i[2] + \",\" + i[3] + '\\n'\n",
    "    lst.append(prod)\n",
    "\n",
    "lst[-1] = lst[-1][:-1]  # Remove the newline character from the last item\n",
    "\n",
    "# Write the updated inventory to the file\n",
    "fd=open('inventory.txt', 'w')\n",
    "for i in lst: # Changed 'inventary.txt' to 'inventory.txt'\n",
    "    fd.write(i)\n",
    "fd.close()\n",
    "print(\"-\"*20)\n",
    "print(\"inventory updated\")"
   ]
  },
  {
   "cell_type": "code",
   "execution_count": null,
   "id": "1744084f-894c-4363-aa8c-ebdd4828e6be",
   "metadata": {},
   "outputs": [],
   "source": []
  }
 ],
 "metadata": {
  "kernelspec": {
   "display_name": "Python 3 (ipykernel)",
   "language": "python",
   "name": "python3"
  },
  "language_info": {
   "codemirror_mode": {
    "name": "ipython",
    "version": 3
   },
   "file_extension": ".py",
   "mimetype": "text/x-python",
   "name": "python",
   "nbconvert_exporter": "python",
   "pygments_lexer": "ipython3",
   "version": "3.12.4"
  }
 },
 "nbformat": 4,
 "nbformat_minor": 5
}
