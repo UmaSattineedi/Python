{
 "cells": [
  {
   "cell_type": "code",
   "execution_count": 35,
   "id": "088e66a6-6016-43b5-ba64-3f76d3c9665c",
   "metadata": {},
   "outputs": [],
   "source": [
    "products={1:{\"name\":\"5 star\" ,      \"price\":5,   \"qn\":30},\n",
    "          2:{\"name\":\"milky bar\",    \"price\":5,   \"qn\":30},\n",
    "          3:{\"name\":\"cake\" ,        \"price\":500, \"qn\":3},\n",
    "          4:{\"name\":\"candy\" ,       \"price\":1,   \"qn\":200}}"
   ]
  },
  {
   "cell_type": "code",
   "execution_count": 48,
   "id": "e9b9f629-4730-45e9-b1cf-c7e0f6bbd149",
   "metadata": {},
   "outputs": [
    {
     "name": "stdout",
     "output_type": "stream",
     "text": [
      "-----------------MENU-------------------\n",
      "1 : 5 star \t| 5 \t| 30\n",
      "2 : milky bar \t| 5 \t| 30\n",
      "3 : cake \t| 500 \t| 3\n",
      "4 : candy \t| 1 \t| 200\n",
      "----------------------------------------\n"
     ]
    },
    {
     "name": "stdin",
     "output_type": "stream",
     "text": [
      "Enter the product ID : 1\n",
      "Enter the quantity you want : 1\n"
     ]
    },
    {
     "name": "stdout",
     "output_type": "stream",
     "text": [
      "-----------------------------------------\n",
      "***************  Bill   ****************\n",
      "Name :      5 star\n",
      "Name :      5 Rs\n",
      "Quantity :  1\n",
      "-----------------------------------------\n",
      "Total bill :     5 Rs\n",
      "-----------------------------------------\n"
     ]
    }
   ],
   "source": [
    "\n",
    "import json\n",
    "products={1:{\"name\":\"5 star\" ,      \"price\":5,   \"qn\":30},\n",
    "          2:{\"name\":\"milky bar\",    \"price\":5,   \"qn\":30},\n",
    "          3:{\"name\":\"cake\" ,        \"price\":500, \"qn\":3},\n",
    "          4:{\"name\":\"candy\" ,       \"price\":1,   \"qn\":200}}\n",
    "print(\"-----------------MENU-------------------\")\n",
    "for key in products.keys():\n",
    "    print(key,\":\",products[key]['name'],\"\\t|\",products[key]['price'],\"\\t|\",products[key]['qn'])\n",
    "print(\"----------------------------------------\")\n",
    "ui_pr_id=int(input(\"Enter the product ID :\"))\n",
    "ui_qn=int(input(\"Enter the quantity you want :\"))\n",
    "products[ui_pr_id]['qn']=products[ui_pr_id]['qn']-ui_qn\n",
    "print(\"-----------------------------------------\")\n",
    "print(\"***************  Bill   ****************\")\n",
    "print(\"Name :     \",products[ui_pr_id]['name'])\n",
    "print(\"Name :     \",products[ui_pr_id]['price'],\"Rs\")\n",
    "print(\"Quantity : \",ui_qn)\n",
    "print(\"-----------------------------------------\")\n",
    "print(\"Total bill :    \",ui_qn*products[ui_pr_id]['price'],\"Rs\")\n",
    "print(\"-----------------------------------------\") \n",
    "js=json.dumps(products)\n",
    "fd=open(\"products.json\",'w')\n",
    "fd.write(js)\n",
    "fd.close()\n"
   ]
  },
  {
   "cell_type": "code",
   "execution_count": 25,
   "id": "e0689a06-49ab-4c0f-b46c-81fedab2c752",
   "metadata": {},
   "outputs": [
    {
     "data": {
      "text/plain": [
       "{1: {'name': '5 star', 'price': 5, 'qn': 30},\n",
       " 2: {'name': 'milky bar', 'price': 5, 'qn': 30},\n",
       " 3: {'name': 'cake', 'price': 500, 'qn': 3},\n",
       " 4: {'name': 'candy', 'price': 1, 'qn': 200}}"
      ]
     },
     "execution_count": 25,
     "metadata": {},
     "output_type": "execute_result"
    }
   ],
   "source": [
    "products"
   ]
  },
  {
   "cell_type": "code",
   "execution_count": 45,
   "id": "4a7218e9-d392-497b-8c53-0f559b1c370d",
   "metadata": {},
   "outputs": [
    {
     "data": {
      "text/plain": [
       "'{\"1\": {\"name\": \"5 star\", \"price\": 5, \"qn\": 0}, \"2\": {\"name\": \"milky bar\", \"price\": 5, \"qn\": 0}, \"3\": {\"name\": \"cake\", \"price\": 500, \"qn\": 0}, \"4\": {\"name\": \"candy\", \"price\": 1, \"qn\": 0}}'"
      ]
     },
     "execution_count": 45,
     "metadata": {},
     "output_type": "execute_result"
    }
   ],
   "source": [
    "js"
   ]
  },
  {
   "cell_type": "code",
   "execution_count": 50,
   "id": "5461dd52-25e0-4edb-be9a-a7fae418c9a7",
   "metadata": {},
   "outputs": [
    {
     "data": {
      "text/plain": [
       "{'1': {'name': '5 star', 'price': 5, 'qn': 29},\n",
       " '2': {'name': 'milky bar', 'price': 5, 'qn': 30},\n",
       " '3': {'name': 'cake', 'price': 500, 'qn': 3},\n",
       " '4': {'name': 'candy', 'price': 1, 'qn': 200}}"
      ]
     },
     "execution_count": 50,
     "metadata": {},
     "output_type": "execute_result"
    }
   ],
   "source": [
    "json.loads(js)"
   ]
  },
  {
   "cell_type": "code",
   "execution_count": 43,
   "id": "d8dff847-1037-4a4a-b0c9-743b1f2659f0",
   "metadata": {},
   "outputs": [],
   "source": [
    "fd=open(\"products.json\",\"r\")\n",
    "js=fd.read()\n",
    "fd.close()"
   ]
  },
  {
   "cell_type": "code",
   "execution_count": 33,
   "id": "3f405862-ebff-4dc1-8143-1b5eabbbfe08",
   "metadata": {},
   "outputs": [
    {
     "name": "stdout",
     "output_type": "stream",
     "text": [
      "-----------------MENU-------------------\n",
      "1 : 5 star \t| 5 \t| 0\n",
      "2 : milky bar \t| 5 \t| 20\n",
      "3 : cake \t| 500 \t| 0\n",
      "4 : candy \t| 1 \t| 0\n",
      "----------------------------------------\n"
     ]
    },
    {
     "name": "stdin",
     "output_type": "stream",
     "text": [
      "Enter the product ID : 2\n",
      "Enter the quantity you want : 20\n"
     ]
    },
    {
     "name": "stdout",
     "output_type": "stream",
     "text": [
      "-----------------------------------------\n",
      "***************  Bill   ****************\n",
      "Name     : milky bar\n",
      "Price    : 5 Rs\n",
      "Quantity : 20\n",
      "-----------------------------------------\n",
      "Total bill :     100 Rs\n",
      "-----------------------------------------\n",
      "\n",
      "-----------------------------------------\n",
      "Thank you Inventory updated\n",
      "-----------------------------------------\n"
     ]
    }
   ],
   "source": [
    "import json\n",
    "fd=open(\"products.json\",\"r\")\n",
    "js=fd.read()\n",
    "fd.close()\n",
    "products=json.loads(js)\n",
    "print(\"-----------------MENU-------------------\")\n",
    "for key in products.keys():\n",
    "    print(key,\":\",products[key]['name'],\"\\t|\",products[key]['price'],\"\\t|\",products[key]['qn'])\n",
    "print(\"----------------------------------------\")\n",
    "ui_pr_id=str(input(\"Enter the product ID :\"))\n",
    "ui_qn=int(input(\"Enter the quantity you want :\"))\n",
    "if products[ui_pr_id]['qn']>=ui_qn:\n",
    "    products[ui_pr_id]['qn']=products[ui_pr_id]['qn']-ui_qn\n",
    "    print(\"-----------------------------------------\")\n",
    "    print(\"***************  Bill   ****************\")\n",
    "    print(\"Name     :\",products[ui_pr_id]['name'])\n",
    "    print(\"Price    :\",products[ui_pr_id]['price'],\"Rs\")\n",
    "    print(\"Quantity :\",ui_qn)\n",
    "    print(\"-----------------------------------------\")\n",
    "    print(\"Total bill :    \",ui_qn*products[ui_pr_id]['price'],\"Rs\")\n",
    "    print(\"-----------------------------------------\") \n",
    "else:\n",
    "    print(\"Sorry we don't have enough quantity\")\n",
    "    print(\"we have only\",products[ui_pr_id]['qn'],'quantity')\n",
    "    ch=str(input(\"press Y/y if you want to purchase :\"))\n",
    "    if (ch==\"y\" or ch=='Y'):\n",
    "        print(\"-----------------------------------------\")\n",
    "        print(\"***************  Bill  ****************\")\n",
    "        print(\"Name      : \",products[ui_pr_id]['name'])\n",
    "        print(\"Price     : \",products[ui_pr_id]['price'],\"Rs\")\n",
    "        print(\"Quantity  : \",products[ui_pr_id]['qn'])\n",
    "        print(\"-----------------------------------------\")\n",
    "        print(\"Total bill :    \",products[ui_pr_id]['qn']*products[ui_pr_id]['price'],\"Rs\")\n",
    "        print(\"-----------------------------------------\")\n",
    "        products[ui_pr_id]['qn']=0\n",
    "    else:\n",
    "        print(\"THANKS!\")\n",
    "         \n",
    "js=json.dumps(products)\n",
    "fd=open(\"products.json\",'w')\n",
    "fd.write(js)\n",
    "fd.close()\n",
    "print(\"\")\n",
    "print(\"-----------------------------------------\")\n",
    "print(\"Thank you Inventory updated\")\n",
    "print(\"-----------------------------------------\")"
   ]
  },
  {
   "cell_type": "code",
   "execution_count": 1,
   "id": "e7a316bd-995a-4541-a528-c49349e0ad42",
   "metadata": {},
   "outputs": [
    {
     "name": "stdout",
     "output_type": "stream",
     "text": [
      "-----------------MENU-------------------\n",
      "1 : 5 star \t| 5 \t| 27\n",
      "2 : milky bar \t| 5 \t| 30\n",
      "3 : cake \t| 500 \t| 3\n",
      "4 : candy \t| 1 \t| 200\n",
      "----------------------------------------\n"
     ]
    },
    {
     "name": "stdin",
     "output_type": "stream",
     "text": [
      "Enter your name             : uma\n",
      "Enter your mail ID         : uma@gmail.com\n",
      "Enter your mobile number      : 6564654684\n",
      "Enter the product ID       : 1\n",
      "Enter the quantity you want   : 100\n"
     ]
    },
    {
     "name": "stdout",
     "output_type": "stream",
     "text": [
      "--------------------\n",
      "Sorry we don't have enough quantity\n",
      "we have only 27 quantity\n",
      "--------------------\n"
     ]
    },
    {
     "name": "stdin",
     "output_type": "stream",
     "text": [
      "press Y/y if you want to purchase : y\n"
     ]
    },
    {
     "name": "stdout",
     "output_type": "stream",
     "text": [
      "-----------------------------------------\n",
      "***************  Bill  ****************\n",
      "Name      :  5 star\n",
      "Price     :  5 Rs\n",
      "Quantity  :  27\n",
      "-----------------------------------------\n",
      "Total bill :     135 Rs\n",
      "-----------------------------------------\n",
      "\n",
      "-----------------------------------------\n",
      "Thank you Inventory updated\n",
      "-----------------------------------------\n"
     ]
    }
   ],
   "source": [
    "#importing the libraries\n",
    "import time\n",
    "import json\n",
    "#initialising variables\n",
    "sales=''\n",
    "\n",
    "#loading the inventory records from JSON to string\n",
    "fd=open(\"products.json\",\"r\")\n",
    "js=fd.read()\n",
    "fd.close()\n",
    "\n",
    "#converting string records to JSON or dictionaries\n",
    "products=json.loads(js)\n",
    "\n",
    "#displaying the menu\n",
    "print(\"-----------------MENU-------------------\")\n",
    "for key in products.keys():\n",
    "    print(key,\":\",products[key]['name'],\"\\t|\",products[key]['price'],\"\\t|\",products[key]['qn'])\n",
    "print(\"----------------------------------------\")\n",
    "\n",
    "#taing user inputs about theb purchase and user details\n",
    "ui_name=str(input(\"Enter your name             :\"))\n",
    "ui_email=str(input(\"Enter your mail ID         :\"))\n",
    "ui_ph=str(input(\"Enter your mobile number      :\"))\n",
    "ui_pr_id=str(input(\"Enter the product ID       :\"))\n",
    "ui_qn=int(input(\"Enter the quantity you want   :\"))\n",
    "\n",
    "#if we are having more or eqaul quantity than user want\n",
    "\n",
    "if products[ui_pr_id]['qn']>=ui_qn:\n",
    "    #displaying purchase details\n",
    "    print(\"-----------------------------------------\")\n",
    "    print(\"***************  Bill   ****************\")\n",
    "    print(\"Name     :\",products[ui_pr_id]['name'])\n",
    "    print(\"Price    :\",products[ui_pr_id]['price'],\"Rs\")\n",
    "    print(\"Quantity :\",ui_qn)\n",
    "    print(\"-----------------------------------------\")\n",
    "    print(\"Total bill :    \",ui_qn*products[ui_pr_id]['price'],\"Rs\")\n",
    "    print(\"-----------------------------------------\")\n",
    "\n",
    "    # generating sales structure in csv\n",
    "    sales=\"1\"+\",\"+ui_name+\",\"+ui_email+\",\"+ui_ph+\",\"+products[ui_pr_id]['name']+\",\"+str(products[ui_pr_id]['price'])+','+str(ui_qn)+\",\"+str(products[ui_pr_id]['price']*ui_qn)+\",\"+time.ctime()+'\\n'\n",
    "\n",
    " \n",
    "    #updating my records dictonary\n",
    "    products[ui_pr_id]['qn']=products[ui_pr_id]['qn']-ui_qn\n",
    "    \n",
    "#if we are not  having more or eqaul quantity than user want\n",
    "\n",
    "else:\n",
    "\n",
    "    #displaying Info about the quantity\n",
    "    print(\"-\"*20)\n",
    "    print(\"Sorry we don't have enough quantity\")\n",
    "    print(\"we have only\",products[ui_pr_id]['qn'],'quantity')\n",
    "    print(\"-\"*20)\n",
    "    #if user want to purchase whole quantity for that product\n",
    "    ch=str(input(\"press Y/y if you want to purchase :\"))\n",
    "    if (ch==\"y\" or ch=='Y'):\n",
    "        #displaying purchase details\n",
    "        print(\"-----------------------------------------\")\n",
    "        print(\"***************  Bill  ****************\")\n",
    "        print(\"Name      : \",products[ui_pr_id]['name'])\n",
    "        print(\"Price     : \",products[ui_pr_id]['price'],\"Rs\")\n",
    "        print(\"Quantity  : \",products[ui_pr_id]['qn'])\n",
    "        print(\"-----------------------------------------\")\n",
    "        print(\"Total bill :    \",products[ui_pr_id]['qn']*products[ui_pr_id]['price'],\"Rs\")\n",
    "        print(\"-----------------------------------------\")\n",
    "        sales=\"1\"+\",\"+ui_name+\",\"+ui_email+\",\"+ui_ph+\",\"+str(products[ui_pr_id]['price'])+','+str(products[ui_pr_id]['qn'])+\",\"+str(products[ui_pr_id]['price']*products[ui_pr_id]['qn'])+\",\"+time.ctime()+'\\n'\n",
    "        products[ui_pr_id]['qn']=0\n",
    "        \n",
    "    #if user pressesd anything other then y or Y \n",
    "    else:\n",
    "        print(\"THANKS!\")\n",
    "        \n",
    "#conveting dictonary to string          \n",
    "js=json.dumps(products)\n",
    "\n",
    "#saving records in JSON file\n",
    "fd=open(\"products.json\",'w')\n",
    "fd.write(js)\n",
    "fd.close()\n",
    "\n",
    "#saving records in sales file\n",
    "fd=open(\"sales.txt\",\"a\")\n",
    "fd.write(sales)\n",
    "fd.close()\n",
    "\n",
    "print(\"\")\n",
    "print(\"-----------------------------------------\")\n",
    "print(\"Thank you Inventory updated\")\n",
    "print(\"-----------------------------------------\")"
   ]
  },
  {
   "cell_type": "code",
   "execution_count": 15,
   "id": "bcca761b-d00b-4d77-b3a9-3baef55c402b",
   "metadata": {},
   "outputs": [],
   "source": [
    "sales=\"1\"+\",\"+ui_name+\",\"+ui_email+\",\"+ui_ph+\",\"+str(products[ui_pr_id]['price'])+','+str(products[ui_pr_id]['qn'])+str(products[ui_pr_id]['price']*products[ui_pr_id]['qn'])+\",\"+time.ctime()+'\\n'"
   ]
  },
  {
   "cell_type": "code",
   "execution_count": 21,
   "id": "d154c66f-325b-4f57-b961-b13df4d4c22b",
   "metadata": {},
   "outputs": [],
   "source": [
    "fd=open(\"sales.txt\",\"a\")\n",
    "fd.write(sales)\n",
    "fd.close()"
   ]
  },
  {
   "cell_type": "code",
   "execution_count": 25,
   "id": "774c8e93-c3b2-498e-948b-ac0e25d1accb",
   "metadata": {},
   "outputs": [
    {
     "name": "stdout",
     "output_type": "stream",
     "text": [
      "1,uma,uma@gmail.com,12348641536849,5,28140,Wed Aug 14 20:08:08 2024\n",
      "\n"
     ]
    }
   ],
   "source": [
    "print(sales)\n"
   ]
  },
  {
   "cell_type": "code",
   "execution_count": null,
   "id": "841b9754-ad43-4eee-b774-162c7a0519c9",
   "metadata": {},
   "outputs": [],
   "source": []
  }
 ],
 "metadata": {
  "kernelspec": {
   "display_name": "Python 3 (ipykernel)",
   "language": "python",
   "name": "python3"
  },
  "language_info": {
   "codemirror_mode": {
    "name": "ipython",
    "version": 3
   },
   "file_extension": ".py",
   "mimetype": "text/x-python",
   "name": "python",
   "nbconvert_exporter": "python",
   "pygments_lexer": "ipython3",
   "version": "3.12.4"
  }
 },
 "nbformat": 4,
 "nbformat_minor": 5
}
