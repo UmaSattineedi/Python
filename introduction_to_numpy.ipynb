{
  "nbformat": 4,
  "nbformat_minor": 0,
  "metadata": {
    "colab": {
      "provenance": []
    },
    "kernelspec": {
      "name": "python3",
      "display_name": "Python 3"
    },
    "language_info": {
      "name": "python"
    }
  },
  "cells": [
    {
      "cell_type": "code",
      "execution_count": null,
      "metadata": {
        "colab": {
          "base_uri": "https://localhost:8080/"
        },
        "id": "AlgZyw_gdj03",
        "outputId": "358b990b-c663-4cd0-a10a-734b11537659"
      },
      "outputs": [
        {
          "output_type": "stream",
          "name": "stdout",
          "text": [
            "Requirement already satisfied: numpy in /usr/local/lib/python3.10/dist-packages (1.26.4)\n"
          ]
        }
      ],
      "source": [
        "!pip install numpy\n",
        "\n"
      ]
    },
    {
      "cell_type": "code",
      "source": [
        "import numpy as np"
      ],
      "metadata": {
        "id": "q1xhrge7dyk1"
      },
      "execution_count": null,
      "outputs": []
    },
    {
      "cell_type": "code",
      "source": [
        "np"
      ],
      "metadata": {
        "colab": {
          "base_uri": "https://localhost:8080/"
        },
        "id": "CwCxH3cHfPuO",
        "outputId": "611c104e-0ae8-4c22-c83e-c979e7d07c61"
      },
      "execution_count": null,
      "outputs": [
        {
          "output_type": "execute_result",
          "data": {
            "text/plain": [
              "<module 'numpy' from '/usr/local/lib/python3.10/dist-packages/numpy/__init__.py'>"
            ]
          },
          "metadata": {},
          "execution_count": 4
        }
      ]
    },
    {
      "cell_type": "code",
      "source": [
        "lst=[[1,2,3],[4,5,6]]"
      ],
      "metadata": {
        "id": "sPgYUxNefPxz"
      },
      "execution_count": null,
      "outputs": []
    },
    {
      "cell_type": "code",
      "source": [
        "type(lst)"
      ],
      "metadata": {
        "colab": {
          "base_uri": "https://localhost:8080/"
        },
        "id": "xTGqUh0EfP1N",
        "outputId": "bafd49e0-072a-448a-8ac6-0cbfb8fb3ca0"
      },
      "execution_count": null,
      "outputs": [
        {
          "output_type": "execute_result",
          "data": {
            "text/plain": [
              "list"
            ]
          },
          "metadata": {},
          "execution_count": 6
        }
      ]
    },
    {
      "cell_type": "code",
      "source": [
        "arr=np.array(lst)"
      ],
      "metadata": {
        "id": "iK8q6WcVfP8b"
      },
      "execution_count": null,
      "outputs": []
    },
    {
      "cell_type": "code",
      "source": [
        "arr"
      ],
      "metadata": {
        "colab": {
          "base_uri": "https://localhost:8080/"
        },
        "id": "N3B5bBwLfjj5",
        "outputId": "3ed0d78a-bce8-49ed-e541-a8afe2b06c51"
      },
      "execution_count": null,
      "outputs": [
        {
          "output_type": "execute_result",
          "data": {
            "text/plain": [
              "array([1, 2, 3])"
            ]
          },
          "metadata": {},
          "execution_count": 9
        }
      ]
    },
    {
      "cell_type": "code",
      "source": [
        "type(arr)"
      ],
      "metadata": {
        "colab": {
          "base_uri": "https://localhost:8080/"
        },
        "id": "Uau-unpGftKd",
        "outputId": "bfb3bd65-107d-494a-de0a-e3999841d083"
      },
      "execution_count": null,
      "outputs": [
        {
          "output_type": "execute_result",
          "data": {
            "text/plain": [
              "numpy.ndarray"
            ]
          },
          "metadata": {},
          "execution_count": 10
        }
      ]
    },
    {
      "cell_type": "code",
      "source": [
        "arr.ndim"
      ],
      "metadata": {
        "colab": {
          "base_uri": "https://localhost:8080/"
        },
        "id": "qupuxiD9fq68",
        "outputId": "bc64caee-0d8f-42d7-dc69-765e1489b9f5"
      },
      "execution_count": null,
      "outputs": [
        {
          "output_type": "execute_result",
          "data": {
            "text/plain": [
              "2"
            ]
          },
          "metadata": {},
          "execution_count": 15
        }
      ]
    },
    {
      "cell_type": "code",
      "source": [],
      "metadata": {
        "id": "231FiRl2L6-j"
      },
      "execution_count": null,
      "outputs": []
    },
    {
      "cell_type": "code",
      "source": [
        "arr.shape\n"
      ],
      "metadata": {
        "colab": {
          "base_uri": "https://localhost:8080/"
        },
        "id": "iFxUDCsFgk9O",
        "outputId": "2267ce78-6f18-4dc5-d6bd-bd6020616f6a"
      },
      "execution_count": null,
      "outputs": [
        {
          "output_type": "execute_result",
          "data": {
            "text/plain": [
              "(2, 3)"
            ]
          },
          "metadata": {},
          "execution_count": 16
        }
      ]
    },
    {
      "cell_type": "code",
      "source": [
        "arr.size"
      ],
      "metadata": {
        "colab": {
          "base_uri": "https://localhost:8080/"
        },
        "id": "J3QQrQenglIu",
        "outputId": "af032d7a-1a82-4317-db5b-345ea0a8d515"
      },
      "execution_count": null,
      "outputs": [
        {
          "output_type": "execute_result",
          "data": {
            "text/plain": [
              "6"
            ]
          },
          "metadata": {},
          "execution_count": 17
        }
      ]
    },
    {
      "cell_type": "code",
      "source": [
        "arr.dtype"
      ],
      "metadata": {
        "colab": {
          "base_uri": "https://localhost:8080/"
        },
        "id": "VBEKvrdDhQeQ",
        "outputId": "5d0821fa-7c95-4d56-a54f-dc04b10f7889"
      },
      "execution_count": null,
      "outputs": [
        {
          "output_type": "execute_result",
          "data": {
            "text/plain": [
              "dtype('int64')"
            ]
          },
          "metadata": {},
          "execution_count": 18
        }
      ]
    },
    {
      "cell_type": "code",
      "source": [
        "zeros =np.zeros((3,5))"
      ],
      "metadata": {
        "id": "Msfn8TodhYQf"
      },
      "execution_count": null,
      "outputs": []
    },
    {
      "cell_type": "code",
      "source": [
        "zeros"
      ],
      "metadata": {
        "colab": {
          "base_uri": "https://localhost:8080/"
        },
        "id": "paJTpY3thYB-",
        "outputId": "45f7e1a9-cebb-48aa-b611-a3796f7e2fc7"
      },
      "execution_count": null,
      "outputs": [
        {
          "output_type": "execute_result",
          "data": {
            "text/plain": [
              "array([[0., 0., 0., 0., 0.],\n",
              "       [0., 0., 0., 0., 0.],\n",
              "       [0., 0., 0., 0., 0.]])"
            ]
          },
          "metadata": {},
          "execution_count": 21
        }
      ]
    },
    {
      "cell_type": "code",
      "source": [
        "ones=np.ones((2,2))\n",
        "ones"
      ],
      "metadata": {
        "colab": {
          "base_uri": "https://localhost:8080/"
        },
        "id": "X-ylC9XNhXyQ",
        "outputId": "8436fbe6-587e-4943-cf88-51294b747981"
      },
      "execution_count": null,
      "outputs": [
        {
          "output_type": "execute_result",
          "data": {
            "text/plain": [
              "array([[1., 1.],\n",
              "       [1., 1.]])"
            ]
          },
          "metadata": {},
          "execution_count": 24
        }
      ]
    },
    {
      "cell_type": "code",
      "source": [
        "np.random.random((3,3))"
      ],
      "metadata": {
        "colab": {
          "base_uri": "https://localhost:8080/"
        },
        "id": "ciPW_DvWpPGj",
        "outputId": "fd60e4ec-8b92-40c2-8f78-92028fcc0674"
      },
      "execution_count": null,
      "outputs": [
        {
          "output_type": "execute_result",
          "data": {
            "text/plain": [
              "array([[0.51952093, 0.26740281, 0.64512121],\n",
              "       [0.3212306 , 0.62616141, 0.34200446],\n",
              "       [0.50987084, 0.72839345, 0.53343584]])"
            ]
          },
          "metadata": {},
          "execution_count": 26
        }
      ]
    },
    {
      "cell_type": "code",
      "source": [
        "if np.random.random()>0.5:\n",
        "  print(\"yes\")\n",
        "else:\n",
        "  print(\"no\")"
      ],
      "metadata": {
        "colab": {
          "base_uri": "https://localhost:8080/"
        },
        "id": "A1zUdyU3pPaL",
        "outputId": "4211879c-d895-49ba-d79e-00ad2aba9a01"
      },
      "execution_count": null,
      "outputs": [
        {
          "output_type": "stream",
          "name": "stdout",
          "text": [
            "yes\n"
          ]
        }
      ]
    },
    {
      "cell_type": "code",
      "source": [
        "np.arange(1,10,2)"
      ],
      "metadata": {
        "colab": {
          "base_uri": "https://localhost:8080/"
        },
        "id": "SLiSzKMXpPmP",
        "outputId": "e79de63f-ede0-49e5-d707-333b1f856955"
      },
      "execution_count": null,
      "outputs": [
        {
          "output_type": "execute_result",
          "data": {
            "text/plain": [
              "array([1, 3, 5, 7, 9])"
            ]
          },
          "metadata": {},
          "execution_count": 32
        }
      ]
    },
    {
      "cell_type": "code",
      "source": [
        "np.linspace(1,5,10)"
      ],
      "metadata": {
        "colab": {
          "base_uri": "https://localhost:8080/"
        },
        "id": "BxGaU3IwpPtQ",
        "outputId": "64803a88-c4c4-442c-d1e3-d0cc4b92b116"
      },
      "execution_count": null,
      "outputs": [
        {
          "output_type": "execute_result",
          "data": {
            "text/plain": [
              "array([1.        , 1.44444444, 1.88888889, 2.33333333, 2.77777778,\n",
              "       3.22222222, 3.66666667, 4.11111111, 4.55555556, 5.        ])"
            ]
          },
          "metadata": {},
          "execution_count": 34
        }
      ]
    },
    {
      "cell_type": "code",
      "source": [
        "arr"
      ],
      "metadata": {
        "colab": {
          "base_uri": "https://localhost:8080/"
        },
        "id": "6Jbt1p4cpPyS",
        "outputId": "cf3b4b48-eeab-4378-9cb0-9bf0b7600232"
      },
      "execution_count": null,
      "outputs": [
        {
          "output_type": "execute_result",
          "data": {
            "text/plain": [
              "array([[1, 2, 3],\n",
              "       [4, 5, 6]])"
            ]
          },
          "metadata": {},
          "execution_count": 35
        }
      ]
    },
    {
      "cell_type": "code",
      "source": [
        "arr=np.random.random((4,3))"
      ],
      "metadata": {
        "id": "EMEsR9-ZpP2S"
      },
      "execution_count": null,
      "outputs": []
    },
    {
      "cell_type": "code",
      "source": [
        "arr"
      ],
      "metadata": {
        "colab": {
          "base_uri": "https://localhost:8080/"
        },
        "id": "2lUfINXApP6_",
        "outputId": "f1d10be7-e858-4c8c-ffdb-754df108662c"
      },
      "execution_count": null,
      "outputs": [
        {
          "output_type": "execute_result",
          "data": {
            "text/plain": [
              "array([[0.98549353, 0.76008336, 0.4182926 ],\n",
              "       [0.69336463, 0.09687632, 0.17234095],\n",
              "       [0.57301871, 0.80470141, 0.11054613],\n",
              "       [0.54683107, 0.21682308, 0.37040318]])"
            ]
          },
          "metadata": {},
          "execution_count": 37
        }
      ]
    },
    {
      "cell_type": "code",
      "source": [
        "arr=np.reshape(arr,(3,4))"
      ],
      "metadata": {
        "id": "y3Gck4MSpP_c"
      },
      "execution_count": null,
      "outputs": []
    },
    {
      "cell_type": "code",
      "source": [
        "arr"
      ],
      "metadata": {
        "colab": {
          "base_uri": "https://localhost:8080/"
        },
        "id": "4olRWGLErj-F",
        "outputId": "f502516f-a6d7-475f-91d2-a5dddaa8ad5b"
      },
      "execution_count": null,
      "outputs": [
        {
          "output_type": "execute_result",
          "data": {
            "text/plain": [
              "array([[0.98549353, 0.76008336, 0.4182926 , 0.69336463],\n",
              "       [0.09687632, 0.17234095, 0.57301871, 0.80470141],\n",
              "       [0.11054613, 0.54683107, 0.21682308, 0.37040318]])"
            ]
          },
          "metadata": {},
          "execution_count": 39
        }
      ]
    },
    {
      "cell_type": "code",
      "source": [
        "arr.flatten()"
      ],
      "metadata": {
        "colab": {
          "base_uri": "https://localhost:8080/"
        },
        "id": "MrMl1sLYsDA2",
        "outputId": "a3c624bc-67da-4598-d013-fd4769ddc779"
      },
      "execution_count": null,
      "outputs": [
        {
          "output_type": "execute_result",
          "data": {
            "text/plain": [
              "array([0.98549353, 0.76008336, 0.4182926 , 0.69336463, 0.09687632,\n",
              "       0.17234095, 0.57301871, 0.80470141, 0.11054613, 0.54683107,\n",
              "       0.21682308, 0.37040318])"
            ]
          },
          "metadata": {},
          "execution_count": 40
        }
      ]
    },
    {
      "cell_type": "code",
      "source": [
        "import numpy as np\n",
        "\n",
        "# Defining both the matrices\n",
        "a = np.array([5, 72, 13, 100])\n",
        "b = np.array([2, 5, 10, 30])\n",
        "\n",
        "# Performing addition using arithmetic operator\n",
        "add_ans = a+b\n",
        "print(add_ans)\n",
        "\n",
        "# Performing addition using numpy function\n",
        "add_ans = np.add(a, b)\n",
        "print(add_ans)\n",
        "\n",
        "# The same functions and operations can be used for multiple matrices\n",
        "c = np.array([1, 2, 3, 4])\n",
        "add_ans = a+b+c\n",
        "print(add_ans)\n",
        "\n",
        "add_ans = np.add(a, b, c)\n",
        "print(add_ans)\n"
      ],
      "metadata": {
        "colab": {
          "base_uri": "https://localhost:8080/"
        },
        "id": "5QKwYaYFL81R",
        "outputId": "da87be86-d13c-4792-b85c-995f0b0c0c5c"
      },
      "execution_count": null,
      "outputs": [
        {
          "output_type": "stream",
          "name": "stdout",
          "text": [
            "[  7  77  23 130]\n",
            "[  7  77  23 130]\n",
            "[  8  79  26 134]\n",
            "[  7  77  23 130]\n"
          ]
        }
      ]
    },
    {
      "cell_type": "code",
      "source": [
        "import numpy as np\n",
        "\n",
        "# Defining both the matrices\n",
        "a = np.array([5, 72, 13, 100])\n",
        "b = np.array([2, 5, 10, 30])\n",
        "\n",
        "# Performing subtraction using arithmetic operator\n",
        "sub_ans = a-b\n",
        "print(sub_ans)\n",
        "\n",
        "# Performing subtraction using numpy function\n",
        "sub_ans = np.subtract(a, b)\n",
        "print(sub_ans)\n"
      ],
      "metadata": {
        "colab": {
          "base_uri": "https://localhost:8080/"
        },
        "id": "G_KnJ-KmL89S",
        "outputId": "39db224f-913d-4534-da11-2d9671227c7e"
      },
      "execution_count": null,
      "outputs": [
        {
          "output_type": "stream",
          "name": "stdout",
          "text": [
            "[ 3 67  3 70]\n",
            "[ 3 67  3 70]\n"
          ]
        }
      ]
    },
    {
      "cell_type": "code",
      "source": [
        "import numpy as np\n",
        "\n",
        "# Defining both the matrices\n",
        "a = np.array([5, 72, 13, 100])\n",
        "b = np.array([2, 5, 10, 30])\n",
        "\n",
        "# Performing multiplication using arithmetic operator\n",
        "mul_ans = a*b\n",
        "print(mul_ans)\n",
        "\n",
        "# Performing multiplication using numpy function\n",
        "mul_ans = np.multiply(a, b)\n",
        "print(mul_ans)\n"
      ],
      "metadata": {
        "colab": {
          "base_uri": "https://localhost:8080/"
        },
        "id": "Yu-ez4GHL9Af",
        "outputId": "ec6d8c2c-8b72-4d5b-c0a9-990ec317f45b"
      },
      "execution_count": null,
      "outputs": [
        {
          "output_type": "stream",
          "name": "stdout",
          "text": [
            "[  10  360  130 3000]\n",
            "[  10  360  130 3000]\n"
          ]
        }
      ]
    },
    {
      "cell_type": "code",
      "source": [
        "import numpy as np\n",
        "\n",
        "# Defining both the matrices\n",
        "a = np.array([5, 72, 13, 100])\n",
        "b = np.array([2, 5, 10, 30])\n",
        "\n",
        "# Performing division using arithmetic operators\n",
        "div_ans = a/b\n",
        "print(div_ans)\n",
        "\n",
        "# Performing division using numpy functions\n",
        "div_ans = np.divide(a, b)\n",
        "print(div_ans)\n"
      ],
      "metadata": {
        "colab": {
          "base_uri": "https://localhost:8080/"
        },
        "id": "uH1DZ5ONL9Di",
        "outputId": "0fc14813-854f-4b5d-b756-59434a58b1bd"
      },
      "execution_count": null,
      "outputs": [
        {
          "output_type": "stream",
          "name": "stdout",
          "text": [
            "[ 2.5        14.4         1.3         3.33333333]\n",
            "[ 2.5        14.4         1.3         3.33333333]\n"
          ]
        }
      ]
    },
    {
      "cell_type": "code",
      "source": [
        "# import numpy library\n",
        "import numpy\n",
        "\n",
        "# creating a numpy array of integers\n",
        "arr = numpy.array([1, 5, 4, 8, 3, 7])\n",
        "\n",
        "# finding the maximum and\n",
        "# minimum element in the array\n",
        "max_element = numpy.max(arr)\n",
        "min_element = numpy.min(arr)\n",
        "\n",
        "# printing the result\n",
        "print('maximum element in the array is: ',\n",
        "      max_element)\n",
        "print('minimum element in the array is: ',\n",
        "      min_element)\n"
      ],
      "metadata": {
        "colab": {
          "base_uri": "https://localhost:8080/"
        },
        "id": "CjVSyo9ML9GL",
        "outputId": "aa9141e9-b788-4ff7-87ad-588ba380b938"
      },
      "execution_count": null,
      "outputs": [
        {
          "output_type": "stream",
          "name": "stdout",
          "text": [
            "maximum element in the array is:  8\n",
            "minimum element in the array is:  1\n"
          ]
        }
      ]
    },
    {
      "cell_type": "code",
      "source": [
        "# import numpy library\n",
        "import numpy\n",
        "\n",
        "# creating a two dimensional\n",
        "# numpy array of integers\n",
        "arr = numpy.array([[11, 2, 3],\n",
        "                     [4, 5, 16],\n",
        "                      [7, 81, 22]])\n",
        "\n",
        "# finding the maximum and\n",
        "# minimum element in the array\n",
        "max_element = numpy.max(arr)\n",
        "min_element = numpy.min(arr)\n",
        "\n",
        "# printing the result\n",
        "print('maximum element in the array is:',\n",
        "      max_element)\n",
        "print('minimum element in the array is:',\n",
        "      min_element)\n"
      ],
      "metadata": {
        "colab": {
          "base_uri": "https://localhost:8080/"
        },
        "id": "iB3RNTGOL9JE",
        "outputId": "a074b35d-cff4-4077-a124-bbaa82c20983"
      },
      "execution_count": null,
      "outputs": [
        {
          "output_type": "stream",
          "name": "stdout",
          "text": [
            "maximum element in the array is: 81\n",
            "minimum element in the array is: 2\n"
          ]
        }
      ]
    },
    {
      "cell_type": "code",
      "source": [
        "# import numpy library\n",
        "import numpy\n",
        "\n",
        "# creating a two dimensional\n",
        "# numpy array of integers\n",
        "arr = numpy.array([[11, 2, 3],\n",
        "                     [4, 5, 16],\n",
        "                      [7, 81, 22]])\n",
        "\n",
        "# finding the maximum and\n",
        "# minimum element in the array\n",
        "max_element_column = numpy.max(arr, 0)\n",
        "max_element_row = numpy.max(arr, 1)\n",
        "\n",
        "min_element_column = numpy.amin(arr, 0)\n",
        "min_element_row = numpy.amin(arr, 1)\n",
        "\n",
        "# printing the result\n",
        "print('maximum elements in the columns of the array is:',\n",
        "      max_element_column)\n",
        "\n",
        "print('maximum elements in the rows of the array is:',\n",
        "      max_element_row)\n",
        "\n",
        "print('minimum elements in the columns of the array is:',\n",
        "      min_element_column)\n",
        "\n",
        "print('minimum elements in the rows of the array is:',\n",
        "      min_element_row)\n"
      ],
      "metadata": {
        "colab": {
          "base_uri": "https://localhost:8080/"
        },
        "id": "r2z2uehBL9L7",
        "outputId": "e5069887-d7a9-4e90-a1f8-7e174bf59909"
      },
      "execution_count": null,
      "outputs": [
        {
          "output_type": "stream",
          "name": "stdout",
          "text": [
            "maximum elements in the columns of the array is: [11 81 22]\n",
            "maximum elements in the rows of the array is: [11 16 81]\n",
            "minimum elements in the columns of the array is: [4 2 3]\n",
            "minimum elements in the rows of the array is: [2 4 7]\n"
          ]
        }
      ]
    },
    {
      "cell_type": "code",
      "source": [
        "import numpy as np\n",
        "\n",
        "# sort along the first axis\n",
        "a = np.array([[12, 15], [10, 1]])\n",
        "arr1 = np.sort(a, axis = 0)\n",
        "print (\"Along first axis : \\n\", arr1)\n",
        "\n",
        "\n",
        "# sort along the last axis\n",
        "a = np.array([[10, 15], [12, 1]])\n",
        "arr2 = np.sort(a, axis = -1)\n",
        "print (\"\\nAlong first axis : \\n\", arr2)\n",
        "\n",
        "\n",
        "a = np.array([[12, 15], [10, 1]])\n",
        "arr1 = np.sort(a, axis = None)\n",
        "print (\"\\nAlong none axis : \\n\", arr1)\n"
      ],
      "metadata": {
        "colab": {
          "base_uri": "https://localhost:8080/"
        },
        "id": "1ylYTygzL9PF",
        "outputId": "efba1044-fde5-4b4c-99fa-7a1b4037d87d"
      },
      "execution_count": null,
      "outputs": [
        {
          "output_type": "stream",
          "name": "stdout",
          "text": [
            "Along first axis : \n",
            " [[10  1]\n",
            " [12 15]]\n",
            "\n",
            "Along first axis : \n",
            " [[10 15]\n",
            " [ 1 12]]\n",
            "\n",
            "Along none axis : \n",
            " [ 1 10 12 15]\n"
          ]
        }
      ]
    },
    {
      "cell_type": "code",
      "source": [
        "arr = np.array([[7,3,8,6,4], [7,2,9,8,6],[5,4,2,3,1]])\n",
        "print(np.sort(arr , axis = 0, kind = 'mergesort'))\n",
        "print()\n",
        "print(np.sort(arr , axis = 1, kind = 'quicksort'))\n",
        "print()\n",
        "print(np.sort(arr , kind = 'heapsort'))\n"
      ],
      "metadata": {
        "colab": {
          "base_uri": "https://localhost:8080/"
        },
        "id": "g3dYCQybL9SG",
        "outputId": "2449b27d-4e61-4165-d436-4214405fb14e"
      },
      "execution_count": null,
      "outputs": [
        {
          "output_type": "stream",
          "name": "stdout",
          "text": [
            "[[5 2 2 3 1]\n",
            " [7 3 8 6 4]\n",
            " [7 4 9 8 6]]\n",
            "\n",
            "[[3 4 6 7 8]\n",
            " [2 6 7 8 9]\n",
            " [1 2 3 4 5]]\n",
            "\n",
            "[[3 4 6 7 8]\n",
            " [2 6 7 8 9]\n",
            " [1 2 3 4 5]]\n"
          ]
        }
      ]
    },
    {
      "cell_type": "code",
      "source": [
        "# Python program explaining\n",
        "# vstack() function\n",
        "\n",
        "import numpy as np\n",
        "\n",
        "# input array\n",
        "in_arr1 = np.array([ 1, 2, 3] )\n",
        "print (\"1st Input array : \\n\", in_arr1)\n",
        "\n",
        "in_arr2 = np.array([ 4, 5, 6] )\n",
        "print (\"2nd Input array : \\n\", in_arr2)\n",
        "\n",
        "# Stacking the two arrays vertically\n",
        "out_arr = np.vstack((in_arr1, in_arr2))\n",
        "print (\"Output vertically stacked array:\\n \", out_arr)\n"
      ],
      "metadata": {
        "colab": {
          "base_uri": "https://localhost:8080/"
        },
        "id": "MgR406g0L9Y8",
        "outputId": "e918424b-96f4-4473-b0ed-21bfbdcdbb2b"
      },
      "execution_count": null,
      "outputs": [
        {
          "output_type": "stream",
          "name": "stdout",
          "text": [
            "1st Input array : \n",
            " [1 2 3]\n",
            "2nd Input array : \n",
            " [4 5 6]\n",
            "Output vertically stacked array:\n",
            "  [[1 2 3]\n",
            " [4 5 6]]\n"
          ]
        }
      ]
    },
    {
      "cell_type": "code",
      "source": [
        "# Python program explaining\n",
        "# vstack() function\n",
        "\n",
        "import numpy as np\n",
        "\n",
        "# input array\n",
        "in_arr1 = np.array([[ 1, 2, 3], [ -1, -2, -3]] )\n",
        "print (\"1st Input array : \\n\", in_arr1)\n",
        "\n",
        "in_arr2 = np.array([[ 4, 5, 6], [ -4, -5, -6]] )\n",
        "print (\"2nd Input array : \\n\", in_arr2)\n",
        "\n",
        "# Stacking the two arrays vertically\n",
        "out_arr = np.vstack((in_arr1, in_arr2))\n",
        "print (\"Output stacked array :\\n \", out_arr)\n"
      ],
      "metadata": {
        "colab": {
          "base_uri": "https://localhost:8080/"
        },
        "id": "JuqVJ4QcM324",
        "outputId": "f65fb6bf-1b9e-48a0-cec3-76b9e2d6a6fe"
      },
      "execution_count": null,
      "outputs": [
        {
          "output_type": "stream",
          "name": "stdout",
          "text": [
            "1st Input array : \n",
            " [[ 1  2  3]\n",
            " [-1 -2 -3]]\n",
            "2nd Input array : \n",
            " [[ 4  5  6]\n",
            " [-4 -5 -6]]\n",
            "Output stacked array :\n",
            "  [[ 1  2  3]\n",
            " [-1 -2 -3]\n",
            " [ 4  5  6]\n",
            " [-4 -5 -6]]\n"
          ]
        }
      ]
    },
    {
      "cell_type": "code",
      "source": [
        "# Python program explaining\n",
        "# hstack() function\n",
        "\n",
        "import numpy as no\n",
        "\n",
        "# input array\n",
        "in_arr1 = np.array([ 1, 2, 3] )\n",
        "print (\"1st Input array : \\n\", in_arr1)\n",
        "\n",
        "in_arr2 = np.array([ 4, 5, 6] )\n",
        "print (\"2nd Input array : \\n\", in_arr2)\n",
        "\n",
        "# Stacking the two arrays horizontally\n",
        "out_arr = np.hstack((in_arr1, in_arr2))\n",
        "print (\"Output horizontally stacked array:\\n \", out_arr)\n"
      ],
      "metadata": {
        "colab": {
          "base_uri": "https://localhost:8080/"
        },
        "id": "7RJPJ7PsM4DH",
        "outputId": "80aadfb2-3ccf-4869-d7f4-bc9b18a6fbcd"
      },
      "execution_count": null,
      "outputs": [
        {
          "output_type": "stream",
          "name": "stdout",
          "text": [
            "1st Input array : \n",
            " [1 2 3]\n",
            "2nd Input array : \n",
            " [4 5 6]\n",
            "Output horizontally stacked array:\n",
            "  [1 2 3 4 5 6]\n"
          ]
        }
      ]
    },
    {
      "cell_type": "code",
      "source": [
        "# Python program explaining\n",
        "# hstack() function\n",
        "\n",
        "import numpy as np\n",
        "\n",
        "# input array\n",
        "in_arr1 = np.array([[ 1, 2, 3], [ -1, -2, -3]] )\n",
        "print (\"1st Input array : \\n\", in_arr1)\n",
        "\n",
        "in_arr2 = np.array([[ 4, 5, 6], [ -4, -5, -6]] )\n",
        "print (\"2nd Input array : \\n\", in_arr2)\n",
        "\n",
        "# Stacking the two arrays horizontally\n",
        "out_arr = np.hstack((in_arr1, in_arr2))\n",
        "print (\"Output stacked array :\\n \", out_arr)\n"
      ],
      "metadata": {
        "colab": {
          "base_uri": "https://localhost:8080/"
        },
        "id": "Pwz8p20xM4J_",
        "outputId": "3d0e8675-41fe-4297-9783-913f409b8555"
      },
      "execution_count": null,
      "outputs": [
        {
          "output_type": "stream",
          "name": "stdout",
          "text": [
            "1st Input array : \n",
            " [[ 1  2  3]\n",
            " [-1 -2 -3]]\n",
            "2nd Input array : \n",
            " [[ 4  5  6]\n",
            " [-4 -5 -6]]\n",
            "Output stacked array :\n",
            "  [[ 1  2  3  4  5  6]\n",
            " [-1 -2 -3 -4 -5 -6]]\n"
          ]
        }
      ]
    },
    {
      "cell_type": "code",
      "source": [
        "# Python program explaining\n",
        "# numpy.concatenate() function\n",
        "\n",
        "# importing numpy as geek\n",
        "import numpy as np\n",
        "\n",
        "arr1 = np.array([[2, 4], [6, 8]])\n",
        "arr2 = np.array([[3, 5], [7, 9]])\n",
        "\n",
        "a = np.concatenate((arr1, arr2), axis = 0)\n",
        "\n",
        "print (a)\n"
      ],
      "metadata": {
        "colab": {
          "base_uri": "https://localhost:8080/"
        },
        "id": "Hb_urp6nM4P5",
        "outputId": "5826ef11-2b66-4f3c-cf65-c0110ff869a4"
      },
      "execution_count": null,
      "outputs": [
        {
          "output_type": "stream",
          "name": "stdout",
          "text": [
            "[[2 4]\n",
            " [6 8]\n",
            " [3 5]\n",
            " [7 9]]\n"
          ]
        }
      ]
    },
    {
      "cell_type": "markdown",
      "source": [],
      "metadata": {
        "id": "MppACVs5XmX7"
      }
    },
    {
      "cell_type": "code",
      "source": [
        "# Python program explaining\n",
        "# numpy.vsplit() function\n",
        "\n",
        "# importing numpy as geek\n",
        "import numpy as np\n",
        "\n",
        "arr = np.arange(9.0).reshape(3, 3)\n",
        "\n",
        "a = np.vsplit(arr, 1)\n",
        "\n",
        "print (a)\n"
      ],
      "metadata": {
        "colab": {
          "base_uri": "https://localhost:8080/"
        },
        "id": "0QCo2_fvM4Ue",
        "outputId": "d18baf5c-4744-480d-d857-7876bc28acb0"
      },
      "execution_count": null,
      "outputs": [
        {
          "output_type": "stream",
          "name": "stdout",
          "text": [
            "[array([[0., 1., 2.],\n",
            "       [3., 4., 5.],\n",
            "       [6., 7., 8.]])]\n"
          ]
        }
      ]
    },
    {
      "cell_type": "code",
      "source": [
        "# Python program explaining\n",
        "# numpy.hsplit() function\n",
        "\n",
        "# importing numpy as geek\n",
        "import numpy as np\n",
        "\n",
        "arr = np.arange(16.0).reshape(4, 4)\n",
        "\n",
        "a= np.hsplit(arr, 2)\n",
        "\n",
        "print (a)\n"
      ],
      "metadata": {
        "colab": {
          "base_uri": "https://localhost:8080/"
        },
        "id": "4_5BEzM1M4Zy",
        "outputId": "3f28e565-4c2d-4939-eaf7-c2ac3132d35b"
      },
      "execution_count": null,
      "outputs": [
        {
          "output_type": "stream",
          "name": "stdout",
          "text": [
            "[array([[ 0.,  1.],\n",
            "       [ 4.,  5.],\n",
            "       [ 8.,  9.],\n",
            "       [12., 13.]]), array([[ 2.,  3.],\n",
            "       [ 6.,  7.],\n",
            "       [10., 11.],\n",
            "       [14., 15.]])]\n"
          ]
        }
      ]
    },
    {
      "cell_type": "code",
      "source": [
        "import numpy as np\n",
        "arr = np.array([1,2,3,4,5,6,7,8])\n",
        "arr[3: ]\n"
      ],
      "metadata": {
        "id": "eQAF8G27M4ft",
        "colab": {
          "base_uri": "https://localhost:8080/"
        },
        "outputId": "bf198632-ee8b-4de6-aa79-9375cfb39592"
      },
      "execution_count": 1,
      "outputs": [
        {
          "output_type": "execute_result",
          "data": {
            "text/plain": [
              "array([4, 5, 6, 7, 8])"
            ]
          },
          "metadata": {},
          "execution_count": 1
        }
      ]
    },
    {
      "cell_type": "code",
      "source": [
        "print(arr[ : -3])\n",
        "print(arr[3  :  -3])\n"
      ],
      "metadata": {
        "id": "h3ponb12M4lu",
        "colab": {
          "base_uri": "https://localhost:8080/"
        },
        "outputId": "b4cbba15-2a70-42ef-fcfa-f2f7d8c4e7ed"
      },
      "execution_count": 2,
      "outputs": [
        {
          "output_type": "stream",
          "name": "stdout",
          "text": [
            "[1 2 3 4 5]\n",
            "[4 5]\n"
          ]
        }
      ]
    },
    {
      "cell_type": "code",
      "source": [
        "arr = np.array([[1,2,3,4],[5,6,7,8],[8,7,6,5],[4,3,2,1]])\n",
        "arr\n"
      ],
      "metadata": {
        "id": "vbmDq2sHM4rj",
        "colab": {
          "base_uri": "https://localhost:8080/"
        },
        "outputId": "069ab1ac-cc9b-4342-d95d-fbbc6a88295c"
      },
      "execution_count": 3,
      "outputs": [
        {
          "output_type": "execute_result",
          "data": {
            "text/plain": [
              "array([[1, 2, 3, 4],\n",
              "       [5, 6, 7, 8],\n",
              "       [8, 7, 6, 5],\n",
              "       [4, 3, 2, 1]])"
            ]
          },
          "metadata": {},
          "execution_count": 3
        }
      ]
    },
    {
      "cell_type": "code",
      "source": [
        "print(arr[ 3 , 1])\n",
        "print()\n",
        "print(arr[ 1: , 1:])\n"
      ],
      "metadata": {
        "colab": {
          "base_uri": "https://localhost:8080/"
        },
        "id": "13TEaUeLAjqn",
        "outputId": "a25a1a9b-4140-4c87-e1ac-dc40c29c0b07"
      },
      "execution_count": 4,
      "outputs": [
        {
          "output_type": "stream",
          "name": "stdout",
          "text": [
            "3\n",
            "\n",
            "[[6 7 8]\n",
            " [7 6 5]\n",
            " [3 2 1]]\n"
          ]
        }
      ]
    },
    {
      "cell_type": "code",
      "source": [
        "lst = [1,2,3,4,5,6,7,8,9,10]\n",
        "for i in lst:\n",
        "  if (i > 5):\n",
        "    print(i)\n"
      ],
      "metadata": {
        "colab": {
          "base_uri": "https://localhost:8080/"
        },
        "id": "204-k5kxDGci",
        "outputId": "d1c62a3f-22b3-4c87-9195-28c69e1d136c"
      },
      "execution_count": 5,
      "outputs": [
        {
          "output_type": "stream",
          "name": "stdout",
          "text": [
            "6\n",
            "7\n",
            "8\n",
            "9\n",
            "10\n"
          ]
        }
      ]
    },
    {
      "cell_type": "code",
      "source": [
        "lst = np.array([1,2,3,4,5,6,7,8,9,10])\n",
        "print(lst[lst>5]) #in a single line we have done the same thing which we did previously and this time without using the for loop\n"
      ],
      "metadata": {
        "colab": {
          "base_uri": "https://localhost:8080/"
        },
        "id": "UCHdhivVDGt1",
        "outputId": "e112d072-6a04-4577-f29f-51e9bef3f574"
      },
      "execution_count": 6,
      "outputs": [
        {
          "output_type": "stream",
          "name": "stdout",
          "text": [
            "[ 6  7  8  9 10]\n"
          ]
        }
      ]
    }
  ]
}